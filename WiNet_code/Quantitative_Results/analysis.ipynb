{
 "cells": [
  {
   "cell_type": "code",
   "execution_count": 1,
   "metadata": {},
   "outputs": [
    {
     "name": "stdout",
     "output_type": "stream",
     "text": [
      "0.7646346350606466\n",
      "0.125314635918145\n",
      "dice: 0.765 +- 0.125\n",
      "jec_det: 0.00000 +- 0.00000\n"
     ]
    }
   ],
   "source": [
    "import numpy as np\n",
    "import csv, sys\n",
    "import matplotlib\n",
    "import matplotlib.pyplot as plt\n",
    "import matplotlib.font_manager as font_manager\n",
    "from scipy.stats import wilcoxon, ttest_rel, ttest_ind\n",
    "\n",
    "def set_box_color(bp, color):\n",
    "    plt.setp(bp['boxes'], color=color)\n",
    "    for patch in bp['boxes']:\n",
    "        patch.set(facecolor = color)\n",
    "    plt.setp(bp['whiskers'], color='cornflowerblue')\n",
    "    plt.setp(bp['caps'], color='steelblue')\n",
    "    plt.setp(bp['medians'], color='dodgerblue')\n",
    "\n",
    "substruct = ['Left-Cerebral-White-Matter','Left-Cerebral-Cortex','Left-Lateral-Ventricle','Left-Inf-Lat-Vent','Left-Cerebellum-White-Matter','Left-Cerebellum-Cortex','Left-Thalamus-Proper*',\n",
    "             'Left-Caudate','Left-Putamen','Left-Pallidum','3rd-Ventricle','4th-Ventricle','Brain-Stem','Left-Hippocampus','Left-Amygdala','CSF','Left-Accumbens-area','Left-VentralDC',\n",
    "             'Left-vessel','Left-choroid-plexus','Right-Cerebral-White-Matter','Right-Cerebral-Cortex','Right-Lateral-Ventricle','Right-Inf-Lat-Vent','Right-Cerebellum-White-Matter',\n",
    "             'Right-Cerebellum-Cortex','Right-Thalamus-Proper*','Right-Caudate','Right-Putamen','Right-Pallidum','Right-Hippocampus','Right-Amygdala','Right-Accumbens-area','Right-VentralDC',\n",
    "             'Right-vessel','Right-choroid-plexus','5th-Ventricle','WM-hypointensities','non-WM-hypointensities','Optic-Chiasm','CC_Posterior','CC_Mid_Posterior','CC_Central','CC_Mid_Anterior,CC_Anterior']\n",
    "\n",
    "outstruct = ['Brain-Stem', 'Thalamus', 'Cerebellum-Cortex', 'Cerebral-White-Matter', 'Cerebellum-White-Matter', 'Putamen', 'VentralDC', 'Pallidum', 'Caudate', 'Lateral-Ventricle', 'Hippocampus',\n",
    "             '3rd-Ventricle', '4th-Ventricle', 'Amygdala', 'Cerebral-Cortex', 'CSF', 'choroid-plexus']\n",
    "all_data = []\n",
    "all_dsc = []\n",
    "\n",
    "dir_ = './'\n",
    "\n",
    "path = dir_ + 'WiNet-diff-dice0.7522-sim-0.2389.ckpt.csv'\n",
    "\n",
    "exp_data = np.zeros((len(outstruct), 115))\n",
    "stct_i = 0\n",
    "for stct in outstruct:\n",
    "    tar_idx = []\n",
    "    with open(path, \"r\") as f:\n",
    "        reader = csv.reader(f, delimiter=\"\\t\")\n",
    "        for i, line in enumerate(reader):\n",
    "            if i == 1:\n",
    "                names = line[0].split(',')\n",
    "                idx = 0\n",
    "                for item in names:\n",
    "                    if stct in item:\n",
    "                        tar_idx.append(idx)\n",
    "                    idx += 1\n",
    "            elif i>1:\n",
    "                if line[0].split(',')[1]=='':\n",
    "                    continue\n",
    "                val = 0\n",
    "                for lr_i in tar_idx:\n",
    "                    vals = line[0].split(',')\n",
    "                    val += float(vals[lr_i])\n",
    "                val = val/len(tar_idx)\n",
    "                exp_data[stct_i, i-2] = val\n",
    "    stct_i+=1\n",
    "all_dsc.append(exp_data.mean(axis=0))\n",
    "print(exp_data.mean())\n",
    "print(exp_data.std())\n",
    "print('dice: {:.3f} +- {:.3f}'.format(exp_data.mean(), exp_data.std()))\n",
    "all_data.append(exp_data)\n",
    "my_list = []\n",
    "with open(path, newline='') as f:\n",
    "    reader = csv.reader(f)\n",
    "    my_list = [row[-1] for row in reader]\n",
    "my_list = my_list[2:]\n",
    "my_list = np.array([float(i) for i in my_list])*100\n",
    "print('jec_det: {:.5f} +- {:.5f}'.format(my_list.mean(), my_list.std()))\n"
   ]
  },
  {
   "cell_type": "code",
   "execution_count": null,
   "metadata": {},
   "outputs": [],
   "source": []
  }
 ],
 "metadata": {
  "kernelspec": {
   "display_name": "xxc_py39",
   "language": "python",
   "name": "python3"
  },
  "language_info": {
   "codemirror_mode": {
    "name": "ipython",
    "version": 3
   },
   "file_extension": ".py",
   "mimetype": "text/x-python",
   "name": "python",
   "nbconvert_exporter": "python",
   "pygments_lexer": "ipython3",
   "version": "3.9.13"
  }
 },
 "nbformat": 4,
 "nbformat_minor": 2
}
